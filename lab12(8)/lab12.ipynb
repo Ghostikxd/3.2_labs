{
 "cells": [
  {
   "cell_type": "code",
   "execution_count": 12,
   "metadata": {},
   "outputs": [],
   "source": [
    "import dask.bag as db\n",
    "import json\n",
    "import re\n",
    "import pandas as pd\n",
    "import zipfile\n",
    "import glob\n",
    "import os"
   ]
  },
  {
   "cell_type": "code",
   "execution_count": 13,
   "metadata": {},
   "outputs": [
    {
     "name": "stdout",
     "output_type": "stream",
     "text": [
      "({'user_id': 452355, 'recipe_id': 292657, 'date': '2016-05-08', 'review': 'WOW!!! This is the best. I have never been able to make homemade enchiladas that taste like the Mexican restaurants. I made this last night for my family and they said they will never have enchiladas at the Mexican Restaurants again. Thanks for sharing.'}, {'user_id': 329304, 'recipe_id': 433404, 'date': '2006-06-14', 'review': 'This was good but the dressing needed something and I found it to be a little too sweet, next time I will experiment with some garlic and herbs and reduce the sugar slightly, thanks for sharing kcdlong!...Kitten'}, {'user_id': 227932, 'recipe_id': 2008187, 'date': '1985-11-19', 'review': 'Very good,it was a hit for my family. I used 6 cloves of garlic and had 1 lb beef and  Johnsonville sausage,1/2 lb hot and  1/2 lb honey garlic( which I wanted to use). That was a perfect combo for us. The sausage gave it nice flavor No guestion , I will be making this often.'}, {'user_id': 171468, 'recipe_id': 270716, 'date': '2019-05-21', 'review': 'Made for ZWT-8 Family Picks after I saw these mentioned in the Family Picks thread. So I got up this morning, made my morning coffee while the oven was heating & then made these quick-fix sweet treats B4 I was ready for my 2nd cup of coffee. I used 8\" tortillas (all I had on-hand) & cut them into 8 wedges. Then I used 2 of my Pamperd Chef gadgets .. my sml basting brush to spread the honey on the warm tortillas & my flour/sugar shaker to sprinkle the powd sugar/cinnamon mixture atop the honeyed tortillas. It might have taken a total of 2 min from oven to tasting! Yum! Using the same \"sweet mix\" these would also be good w/butter, cream cheese or even lime juice. Can\\'t wait to try them w/lime juice! Thx for sharing this tasty little treat w/us.'}, {'user_id': 91392, 'recipe_id': 1159916, 'date': '1972-09-18', 'review': \"Very nice slaw. I especially like that it doesn't have the mayo dressing. I used a prepackaged Cole slaw mix, so i didn't include the carrots nor the nuts. I also doubled the sauce. :)\"})\n"
     ]
    }
   ],
   "source": [
    "# 1\n",
    "# Загрузка файлов из архива в виде dask.bag\n",
    "bag = db.read_text(r'D:\\git\\3.2_labs\\reviews_full\\reviews_*.json')\n",
    "\n",
    "# Преобразование текстового содержимого в объекты Python с помощью модуля json\n",
    "bag = bag.map(json.loads)\n",
    "\n",
    "# Вывод первых 5 элементов из полученного bag\n",
    "print(bag.take(5))"
   ]
  },
  {
   "cell_type": "code",
   "execution_count": 14,
   "metadata": {},
   "outputs": [],
   "source": [
    "# 2\n",
    "def parse_json_with_rating(json_str):\n",
    "    # Компилируем регулярное выражение для извлечения рейтинга из имени файла\n",
    "    path = re.compile(r'_(\\d+)\\.json$')\n",
    "    \n",
    "    # Преобразуем JSON-строку в объект Python\n",
    "    data = json.loads(json_str[0])\n",
    "    \n",
    "    # Извлекаем рейтинг из имени файла и добавляем его в словарь\n",
    "    data.update({'rating': int(re.findall(path, json_str[1])[0])})\n",
    "    \n",
    "    return data"
   ]
  },
  {
   "cell_type": "code",
   "execution_count": 15,
   "metadata": {},
   "outputs": [
    {
     "name": "stdout",
     "output_type": "stream",
     "text": [
      "({'user_id': 452355, 'recipe_id': 292657, 'date': '2016-05-08', 'review': 'WOW!!! This is the best. I have never been able to make homemade enchiladas that taste like the Mexican restaurants. I made this last night for my family and they said they will never have enchiladas at the Mexican Restaurants again. Thanks for sharing.', 'rating': 0}, {'user_id': 329304, 'recipe_id': 433404, 'date': '2006-06-14', 'review': 'This was good but the dressing needed something and I found it to be a little too sweet, next time I will experiment with some garlic and herbs and reduce the sugar slightly, thanks for sharing kcdlong!...Kitten', 'rating': 0}, {'user_id': 227932, 'recipe_id': 2008187, 'date': '1985-11-19', 'review': 'Very good,it was a hit for my family. I used 6 cloves of garlic and had 1 lb beef and  Johnsonville sausage,1/2 lb hot and  1/2 lb honey garlic( which I wanted to use). That was a perfect combo for us. The sausage gave it nice flavor No guestion , I will be making this often.', 'rating': 0}, {'user_id': 171468, 'recipe_id': 270716, 'date': '2019-05-21', 'review': 'Made for ZWT-8 Family Picks after I saw these mentioned in the Family Picks thread. So I got up this morning, made my morning coffee while the oven was heating & then made these quick-fix sweet treats B4 I was ready for my 2nd cup of coffee. I used 8\" tortillas (all I had on-hand) & cut them into 8 wedges. Then I used 2 of my Pamperd Chef gadgets .. my sml basting brush to spread the honey on the warm tortillas & my flour/sugar shaker to sprinkle the powd sugar/cinnamon mixture atop the honeyed tortillas. It might have taken a total of 2 min from oven to tasting! Yum! Using the same \"sweet mix\" these would also be good w/butter, cream cheese or even lime juice. Can\\'t wait to try them w/lime juice! Thx for sharing this tasty little treat w/us.', 'rating': 0}, {'user_id': 91392, 'recipe_id': 1159916, 'date': '1972-09-18', 'review': \"Very nice slaw. I especially like that it doesn't have the mayo dressing. I used a prepackaged Cole slaw mix, so i didn't include the carrots nor the nuts. I also doubled the sauce. :)\", 'rating': 0})\n"
     ]
    }
   ],
   "source": [
    "# 2\n",
    "# Загрузка файлов из папки в виде dask.bag\n",
    "bag_2 = db.read_text(r'D:\\git\\3.2_labs\\reviews_full\\reviews_*.json', include_path=True)\n",
    "\n",
    "# Преобразование текстового содержимого в объекты Python с помощью модуля json и добавление рейтинга\n",
    "bag_21 = bag_2.map(parse_json_with_rating)\n",
    "\n",
    "\"\"\" # для лабы 13\n",
    "df = bag_21.to_dataframe()\n",
    "df.to_csv('lab13reviews.csv', index=False) \"\"\"\n",
    "\n",
    "\n",
    "# Вывод первых 5 элементов из полученного bag\n",
    "print(bag_21.take(5))"
   ]
  },
  {
   "cell_type": "code",
   "execution_count": 69,
   "metadata": {},
   "outputs": [
    {
     "name": "stdout",
     "output_type": "stream",
     "text": [
      "Количество отзывов: 9057540\n"
     ]
    }
   ],
   "source": [
    "# 3\n",
    "# Загрузка файлов из архива в виде dask.bag\n",
    "# Подсчет количества отзывов в датасете\n",
    "count_3 = bag_2.count().compute()\n",
    "\n",
    "print(f\"Количество отзывов: {count_3}\")"
   ]
  },
  {
   "cell_type": "code",
   "execution_count": 88,
   "metadata": {},
   "outputs": [],
   "source": [
    "# 4\n",
    "def filter_reviews_by_year(review):\n",
    "    pattern = re.compile(r'2014|2015')\n",
    "    if re.findall(pattern, review['date']):\n",
    "        return review"
   ]
  },
  {
   "cell_type": "code",
   "execution_count": 89,
   "metadata": {},
   "outputs": [
    {
     "name": "stdout",
     "output_type": "stream",
     "text": [
      "({'user_id': 229850, 'recipe_id': 1300038, 'date': '2014-10-03', 'review': 'Took this to a New Year&#039;s Eve Party. Everyone loved it! It&#039;s absolutely perfect, the flavor, the crunch, just delicious!', 'rating': 0}, {'user_id': 2706705, 'recipe_id': 133747, 'date': '2015-05-08', 'review': 'Simple and easy way to enjoy a slice of pizza any time!  Well-toasted bread is the key - really toast it!  I put a bit of pizza sauce underneath my cheese for a more pizza-like flavor.  I used sourdough bread & medium cheddar cheese.  Fast & fun!  Great idea!  Made for 1-2-3 Hits Tag Game.', 'rating': 0}, {'user_id': 945545, 'recipe_id': 898468, 'date': '2015-06-30', 'review': 'Delish!  I wanted to make this spicy so I used hot enchilada sauce and jalapeno refried beans.  I forgot to buy the onions so I doctored up the beans with onion powder and granulated garlic.  Added the olives under the cheese and baked, uncovered, for the 25 minutes.  Served with pico de gallo, sour cream and avocado chunks.  Fantastic!  Thanks for sharing, lazyme!', 'rating': 0}, {'user_id': 262915, 'recipe_id': 1657686, 'date': '2015-11-29', 'review': 'This is seriously delicious.  I mixed it up the night before and baked it in the morning before work.  Made the sauce the night before and refrigerated overnight and heated in microwave.  Such an unusual combination but it kind of reminded me of the pancake on a stick that my kids used to get at the convenience store (sausage wrapped in a pancake, kind of like a corn dog.  Making it again this week and will try to get a pic this time!', 'rating': 0}, {'user_id': 2000408662, 'recipe_id': 128848, 'date': '2015-08-17', 'review': 'Many thanks. Found the recipe truly marvellous! I can now make full use of the lemons growing in my garden.The marmalade was delicious and very easy to make. Since it was the first time, I didn&#039;t want to use a large quantity and so I halved the measures after converting them into grams. Please could we have measurements of ingredients in  recipes in the metric system, i.e. grams and litres,and not in pounds?  Now I am going to search for a recipe to make lemon squash', 'rating': 0})\n"
     ]
    }
   ],
   "source": [
    "# 4\n",
    "bag_4 = bag_21.filter(filter_reviews_by_year)\n",
    "count_4 = bag_4.count().compute()\n",
    "print(bag_4.take(5))"
   ]
  },
  {
   "cell_type": "code",
   "execution_count": 90,
   "metadata": {},
   "outputs": [],
   "source": [
    "# 5\n",
    "def preprocessing(review):\n",
    "    pattern = re.compile(r'[^a-z\\s]')\n",
    "    review['review'] = re.sub(pattern, '', review['review'].lower().strip())\n",
    "    return review"
   ]
  },
  {
   "cell_type": "code",
   "execution_count": 91,
   "metadata": {},
   "outputs": [
    {
     "name": "stdout",
     "output_type": "stream",
     "text": [
      "({'user_id': 229850, 'recipe_id': 1300038, 'date': '2014-10-03', 'review': 'took this to a new years eve party everyone loved it its absolutely perfect the flavor the crunch just delicious', 'rating': 0}, {'user_id': 2706705, 'recipe_id': 133747, 'date': '2015-05-08', 'review': 'simple and easy way to enjoy a slice of pizza any time  welltoasted bread is the key  really toast it  i put a bit of pizza sauce underneath my cheese for a more pizzalike flavor  i used sourdough bread  medium cheddar cheese  fast  fun  great idea  made for  hits tag game', 'rating': 0}, {'user_id': 945545, 'recipe_id': 898468, 'date': '2015-06-30', 'review': 'delish  i wanted to make this spicy so i used hot enchilada sauce and jalapeno refried beans  i forgot to buy the onions so i doctored up the beans with onion powder and granulated garlic  added the olives under the cheese and baked uncovered for the  minutes  served with pico de gallo sour cream and avocado chunks  fantastic  thanks for sharing lazyme', 'rating': 0}, {'user_id': 262915, 'recipe_id': 1657686, 'date': '2015-11-29', 'review': 'this is seriously delicious  i mixed it up the night before and baked it in the morning before work  made the sauce the night before and refrigerated overnight and heated in microwave  such an unusual combination but it kind of reminded me of the pancake on a stick that my kids used to get at the convenience store sausage wrapped in a pancake kind of like a corn dog  making it again this week and will try to get a pic this time', 'rating': 0}, {'user_id': 2000408662, 'recipe_id': 128848, 'date': '2015-08-17', 'review': 'many thanks found the recipe truly marvellous i can now make full use of the lemons growing in my gardenthe marmalade was delicious and very easy to make since it was the first time i didnt want to use a large quantity and so i halved the measures after converting them into grams please could we have measurements of ingredients in  recipes in the metric system ie grams and litresand not in pounds  now i am going to search for a recipe to make lemon squash', 'rating': 0})\n"
     ]
    }
   ],
   "source": [
    "# 5\n",
    "bag_5 = bag_4.map(preprocessing)\n",
    "print(bag_5.take(5))"
   ]
  },
  {
   "cell_type": "code",
   "execution_count": 92,
   "metadata": {},
   "outputs": [
    {
     "name": "stdout",
     "output_type": "stream",
     "text": [
      "735274\n",
      "True\n"
     ]
    }
   ],
   "source": [
    "# 6\n",
    "count_6 = bag_5.count().compute()\n",
    "print(count_6)\n",
    "if count_6 == count_4:\n",
    "    print('True')\n",
    "else:\n",
    "    print('False')"
   ]
  },
  {
   "cell_type": "code",
   "execution_count": 93,
   "metadata": {},
   "outputs": [
    {
     "name": "stdout",
     "output_type": "stream",
     "text": [
      "[(0, 42472), (1, 9246), (2, 9380), (3, 26532), (4, 119413), (5, 528231)]\n"
     ]
    }
   ],
   "source": [
    "# 7\n",
    "bag_7 = bag_5.pluck('rating').frequencies().compute()\n",
    "print(bag_7)"
   ]
  },
  {
   "cell_type": "code",
   "execution_count": 94,
   "metadata": {},
   "outputs": [
    {
     "name": "stdout",
     "output_type": "stream",
     "text": [
      "4.388036296673077\n"
     ]
    }
   ],
   "source": [
    "# 8 \n",
    "bag_8 = bag_5.pluck('rating').mean().compute()\n",
    "print(bag_8)"
   ]
  },
  {
   "cell_type": "code",
   "execution_count": 97,
   "metadata": {},
   "outputs": [
    {
     "name": "stdout",
     "output_type": "stream",
     "text": [
      "[(0, 6548), (1, 2868), (2, 2844), (3, 3174), (4, 6548), (5, 5351)]\n"
     ]
    }
   ],
   "source": [
    "def max_review_length(total, value):\n",
    "    return max(total, len(value['review']))\n",
    "\n",
    "\n",
    "bag_9 = bag_5.foldby(lambda x: x['rating'], max_review_length, 0).compute()\n",
    "print(bag_9)"
   ]
  }
 ],
 "metadata": {
  "kernelspec": {
   "display_name": "Python 3",
   "language": "python",
   "name": "python3"
  },
  "language_info": {
   "codemirror_mode": {
    "name": "ipython",
    "version": 3
   },
   "file_extension": ".py",
   "mimetype": "text/x-python",
   "name": "python",
   "nbconvert_exporter": "python",
   "pygments_lexer": "ipython3",
   "version": "3.10.1"
  },
  "orig_nbformat": 4
 },
 "nbformat": 4,
 "nbformat_minor": 2
}
